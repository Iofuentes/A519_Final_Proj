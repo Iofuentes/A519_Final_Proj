{
 "cells": [
  {
   "cell_type": "code",
   "execution_count": 2,
   "id": "d356f550",
   "metadata": {},
   "outputs": [],
   "source": [
    "import pandas as pd\n",
    "from pprint import pprint\n",
    "from astropy.table import Table, join\n",
    "from astroquery.sdss import SDSS"
   ]
  },
  {
   "cell_type": "code",
   "execution_count": 3,
   "id": "db6680e9",
   "metadata": {},
   "outputs": [
    {
     "name": "stdout",
     "output_type": "stream",
     "text": [
      "Total number of objects: 860684\n",
      "Number of objects from plate: 587\n",
      "<TableColumns names=('ra','dec','objid','run','rerun','camcol','field','z','plate','mjd','fiberID','specobjid','run2d')>\n"
     ]
    },
    {
     "data": {
      "text/html": [
       "<div><i>Table length=587</i>\n",
       "<table id=\"table1672950429536\" class=\"table-striped table-bordered table-condensed\">\n",
       "<thead><tr><th>specobjid</th><th>SOURCETYPE</th><th>RA</th><th>Dec</th><th>plate_x</th><th>ra</th><th>dec</th><th>objid</th><th>run</th><th>rerun</th><th>camcol</th><th>field</th><th>z</th><th>plate_y</th><th>mjd</th><th>fiberID</th><th>run2d</th></tr></thead>\n",
       "<thead><tr><th>int64</th><th>str25</th><th>float64</th><th>float64</th><th>int64</th><th>float64</th><th>float64</th><th>uint64</th><th>int32</th><th>int32</th><th>int32</th><th>int32</th><th>float64</th><th>int32</th><th>int32</th><th>int32</th><th>int32</th></tr></thead>\n",
       "<tr><td>501025764846626816</td><td>GALAXY</td><td>130.61346</td><td>49.754185</td><td>445</td><td>130.61349960302</td><td>49.7542050007829</td><td>1237651189746565323</td><td>1331</td><td>301</td><td>1</td><td>175</td><td>0.1864123</td><td>445</td><td>51873</td><td>1</td><td>26</td></tr>\n",
       "<tr><td>501026039724533760</td><td>GALAXY</td><td>130.50245</td><td>49.952646</td><td>445</td><td>130.502496814982</td><td>49.9526452500273</td><td>1237651249874534681</td><td>1345</td><td>301</td><td>1</td><td>151</td><td>0.3371834</td><td>445</td><td>51873</td><td>2</td><td>26</td></tr>\n",
       "<tr><td>501026314602440704</td><td>GALAXY</td><td>130.80185</td><td>50.011891</td><td>445</td><td>130.801833171431</td><td>50.0118885755988</td><td>1237651249874600266</td><td>1345</td><td>301</td><td>1</td><td>152</td><td>0.186489</td><td>445</td><td>51873</td><td>3</td><td>26</td></tr>\n",
       "<tr><td>501026589480347648</td><td>GALAXY</td><td>130.62652</td><td>50.037049</td><td>445</td><td>130.62652811744</td><td>50.037047131032</td><td>1237651249874600531</td><td>1345</td><td>301</td><td>1</td><td>152</td><td>0.4206361</td><td>445</td><td>51873</td><td>4</td><td>26</td></tr>\n",
       "<tr><td>501026864358254592</td><td>GALAXY</td><td>130.66302</td><td>50.07183</td><td>445</td><td>130.663029522217</td><td>50.0718255938113</td><td>1237651249874600173</td><td>1345</td><td>301</td><td>1</td><td>152</td><td>0.09534973</td><td>445</td><td>51873</td><td>5</td><td>26</td></tr>\n",
       "<tr><td>501027139236161536</td><td>GALAXY</td><td>130.65008</td><td>49.928713</td><td>445</td><td>130.650100893538</td><td>49.9287158883059</td><td>1237651249874534526</td><td>1345</td><td>301</td><td>1</td><td>151</td><td>0.1664238</td><td>445</td><td>51873</td><td>6</td><td>26</td></tr>\n",
       "<tr><td>501027414114068480</td><td>QSO</td><td>130.55542</td><td>49.843956</td><td>445</td><td>130.555470999751</td><td>49.8439569299889</td><td>1237651249874534583</td><td>1345</td><td>301</td><td>1</td><td>151</td><td>2.030451</td><td>445</td><td>51873</td><td>7</td><td>26</td></tr>\n",
       "<tr><td>501027688991975424</td><td>GALAXY</td><td>130.44962</td><td>49.955264</td><td>445</td><td>130.449688077166</td><td>49.9552790767358</td><td>1237651065191858693</td><td>1302</td><td>301</td><td>1</td><td>165</td><td>0.402256</td><td>445</td><td>51873</td><td>8</td><td>26</td></tr>\n",
       "<tr><td>501027963869882368</td><td>GALAXY</td><td>130.54073</td><td>50.024759</td><td>445</td><td>130.540791289279</td><td>50.0247573027193</td><td>1237651190283501764</td><td>1331</td><td>301</td><td>2</td><td>176</td><td>0.18413</td><td>445</td><td>51873</td><td>9</td><td>26</td></tr>\n",
       "<tr><td>501028238747789312</td><td>GALAXY</td><td>130.66571</td><td>50.001286</td><td>445</td><td>130.665712725488</td><td>50.0012849305494</td><td>1237651249874600286</td><td>1345</td><td>301</td><td>1</td><td>152</td><td>0.3380218</td><td>445</td><td>51873</td><td>10</td><td>26</td></tr>\n",
       "<tr><td>...</td><td>...</td><td>...</td><td>...</td><td>...</td><td>...</td><td>...</td><td>...</td><td>...</td><td>...</td><td>...</td><td>...</td><td>...</td><td>...</td><td>...</td><td>...</td><td>...</td></tr>\n",
       "<tr><td>501198663050094592</td><td>GALAXY</td><td>131.31484</td><td>50.881621</td><td>445</td><td>131.314851457391</td><td>50.8815950817023</td><td>1237651250411864219</td><td>1345</td><td>301</td><td>2</td><td>158</td><td>0.1155295</td><td>445</td><td>51873</td><td>630</td><td>26</td></tr>\n",
       "<tr><td>501198937928001536</td><td>GALAXY</td><td>131.27164</td><td>50.946964</td><td>445</td><td>131.271660127235</td><td>50.9469380141574</td><td>1237651250411864233</td><td>1345</td><td>301</td><td>2</td><td>158</td><td>0.1146976</td><td>445</td><td>51873</td><td>631</td><td>26</td></tr>\n",
       "<tr><td>501199212805908480</td><td>QSO</td><td>131.37725</td><td>50.882241</td><td>445</td><td>131.377226813394</td><td>50.8821903128244</td><td>1237651190283960568</td><td>1331</td><td>301</td><td>2</td><td>183</td><td>1.679486</td><td>445</td><td>51873</td><td>632</td><td>26</td></tr>\n",
       "<tr><td>501199487683815424</td><td>GALAXY</td><td>131.50628</td><td>50.804347</td><td>445</td><td>131.506276256679</td><td>50.8042981258333</td><td>1237651190283960567</td><td>1331</td><td>301</td><td>2</td><td>183</td><td>0.1148084</td><td>445</td><td>51873</td><td>633</td><td>26</td></tr>\n",
       "<tr><td>501199762561722368</td><td>GALAXY</td><td>131.21291</td><td>50.957744</td><td>445</td><td>131.212923814384</td><td>50.9577171492051</td><td>1237651250411864224</td><td>1345</td><td>301</td><td>2</td><td>158</td><td>0.1152446</td><td>445</td><td>51873</td><td>634</td><td>26</td></tr>\n",
       "<tr><td>501200037439629312</td><td>GALAXY</td><td>131.63282</td><td>50.756063</td><td>445</td><td>131.632868436562</td><td>50.7560425592079</td><td>1237651249874993212</td><td>1345</td><td>301</td><td>1</td><td>158</td><td>0.1190154</td><td>445</td><td>51873</td><td>635</td><td>26</td></tr>\n",
       "<tr><td>501200312317536256</td><td>GALAXY</td><td>131.50127</td><td>50.826139</td><td>445</td><td>131.501275787811</td><td>50.8261098296183</td><td>1237651190283960579</td><td>1331</td><td>301</td><td>2</td><td>183</td><td>0.1147404</td><td>445</td><td>51873</td><td>636</td><td>26</td></tr>\n",
       "<tr><td>501200587195443200</td><td>GALAXY</td><td>131.35564</td><td>50.81252</td><td>445</td><td>131.355629675952</td><td>50.8124565897294</td><td>1237651190283960520</td><td>1331</td><td>301</td><td>2</td><td>183</td><td>0.1181085</td><td>445</td><td>51873</td><td>637</td><td>26</td></tr>\n",
       "<tr><td>501200862073350144</td><td>QSO</td><td>131.46784</td><td>50.756792</td><td>445</td><td>131.4678321864</td><td>50.7567340848664</td><td>1237651190283960538</td><td>1331</td><td>301</td><td>2</td><td>183</td><td>2.887859</td><td>445</td><td>51873</td><td>638</td><td>26</td></tr>\n",
       "<tr><td>501201411829164032</td><td>GALAXY</td><td>131.68443</td><td>50.635968</td><td>445</td><td>131.684438195514</td><td>50.6359391300748</td><td>1237651249874993273</td><td>1345</td><td>301</td><td>1</td><td>158</td><td>0.07117665</td><td>445</td><td>51873</td><td>640</td><td>26</td></tr>\n",
       "</table></div>"
      ],
      "text/plain": [
       "<Table length=587>\n",
       "    specobjid              SOURCETYPE            RA    ...  mjd  fiberID run2d\n",
       "      int64                  str25            float64  ... int32  int32  int32\n",
       "------------------ ------------------------- --------- ... ----- ------- -----\n",
       "501025764846626816 GALAXY                    130.61346 ... 51873       1    26\n",
       "501026039724533760 GALAXY                    130.50245 ... 51873       2    26\n",
       "501026314602440704 GALAXY                    130.80185 ... 51873       3    26\n",
       "501026589480347648 GALAXY                    130.62652 ... 51873       4    26\n",
       "501026864358254592 GALAXY                    130.66302 ... 51873       5    26\n",
       "501027139236161536 GALAXY                    130.65008 ... 51873       6    26\n",
       "501027414114068480 QSO                       130.55542 ... 51873       7    26\n",
       "501027688991975424 GALAXY                    130.44962 ... 51873       8    26\n",
       "501027963869882368 GALAXY                    130.54073 ... 51873       9    26\n",
       "501028238747789312 GALAXY                    130.66571 ... 51873      10    26\n",
       "               ...                       ...       ... ...   ...     ...   ...\n",
       "501198663050094592 GALAXY                    131.31484 ... 51873     630    26\n",
       "501198937928001536 GALAXY                    131.27164 ... 51873     631    26\n",
       "501199212805908480 QSO                       131.37725 ... 51873     632    26\n",
       "501199487683815424 GALAXY                    131.50628 ... 51873     633    26\n",
       "501199762561722368 GALAXY                    131.21291 ... 51873     634    26\n",
       "501200037439629312 GALAXY                    131.63282 ... 51873     635    26\n",
       "501200312317536256 GALAXY                    131.50127 ... 51873     636    26\n",
       "501200587195443200 GALAXY                    131.35564 ... 51873     637    26\n",
       "501200862073350144 QSO                       131.46784 ... 51873     638    26\n",
       "501201411829164032 GALAXY                    131.68443 ... 51873     640    26"
      ]
     },
     "execution_count": 3,
     "metadata": {},
     "output_type": "execute_result"
    }
   ],
   "source": [
    "# astroquery is weird - can query by region, plate, fiber id, or mjd\n",
    "# query sdss objects by plate number ~ 500 objects per plate\n",
    "\n",
    "\n",
    "# read in the csv file, and get objects on one plate\n",
    "file = 'sdss_objects.csv'\n",
    "df = pd.read_csv(file)\n",
    "print(f\"Total number of objects: {len(df)}\")\n",
    "\n",
    "plate_number = [445] \n",
    "\n",
    "# filter the data set by plate number\n",
    "objects = df[df['plate'].isin(plate_number)]\n",
    "\n",
    "print(f\"Number of objects from plate: {len(objects)}\")\n",
    "\n",
    "# query sdss by plate numer, print available columns\n",
    "\n",
    "results = SDSS.query_specobj(plate = 445)\n",
    "print(results.columns)\n",
    "\n",
    "\n",
    "# match the queries objects with the objects in the csv\n",
    "objects = objects.copy()\n",
    "query_df = results.to_pandas()\n",
    "\n",
    "objects['specobjid'] = objects['specobjid'].astype('int64')\n",
    "query_df['specobjid'] = query_df['specobjid'].astype('int64')\n",
    "\n",
    "# merge the data frames to get the matched objects\n",
    "matched_objects = pd.merge(objects, query_df, on='specobjid', how='inner')\n",
    "\n",
    "\n",
    "obj_matches = Table.from_pandas(matched_objects)\n",
    "obj_matches\n",
    "\n"
   ]
  },
  {
   "cell_type": "code",
   "execution_count": 4,
   "id": "8c3efc60",
   "metadata": {},
   "outputs": [
    {
     "name": "stdout",
     "output_type": "stream",
     "text": [
      "Columns in obj_matches: <TableColumns names=('specobjid','SOURCETYPE','RA','Dec','plate','ra','dec','objid','run','rerun','camcol','field','z','mjd','fiberID','run2d')>\n"
     ]
    }
   ],
   "source": [
    "# adjust columns such that dataframes match\n",
    "\n",
    "if 'plate_y' in obj_matches.columns:\n",
    "    obj_matches.remove_columns('plate_y')\n",
    "\n",
    "\n",
    "if 'plate_x' in obj_matches.columns:\n",
    "    obj_matches.rename_column('plate_x', 'plate')\n",
    "\n",
    "# printt available columns\n",
    "print(\"Columns in obj_matches:\", obj_matches.columns)\n",
    "\n",
    "# get spectra of matched objects\n",
    "spec = SDSS.get_spectra(matches=obj_matches)\n"
   ]
  },
  {
   "cell_type": "code",
   "execution_count": 6,
   "id": "56371dda",
   "metadata": {},
   "outputs": [
    {
     "name": "stdout",
     "output_type": "stream",
     "text": [
      "587\n",
      "Rows in obj_matches: 587\n"
     ]
    }
   ],
   "source": [
    "# download data from spectra\n",
    "spectra_table = []\n",
    "\n",
    "for hdu_list in spec:\n",
    "    # Extract the spectrum's binary table (usually in the 1st HDU)\n",
    "    data = hdu_list[1].data\n",
    "    header = hdu_list[0].header\n",
    "    \n",
    "    # get wavelength and flux data\n",
    "    \n",
    "    wavelength = data['loglam']\n",
    "    flux = data['flux']\n",
    "\n",
    "\n",
    "    # get information from header\n",
    "    obj_id = header['SPEC_ID']      \n",
    "    g_sn = header['SPEC1_G']\n",
    "    r_sn = header['SPEC1_R']\n",
    "    i_sn = header['SPEC1_I']\n",
    "    \n",
    "    red_shift = header['SHIFT']\n",
    "    red_shift_err = header['SHIFTERR']\n",
    "    \n",
    "    central_wavelength = header['COEFF0']\n",
    "    \n",
    "    # append the data to a table\n",
    "    spectra_table.append([obj_id, wavelength, flux, red_shift, red_shift_err, g_sn, r_sn, i_sn, central_wavelength])\n",
    "\n",
    "# create an astropy table\n",
    "spectra_table = Table(rows=spectra_table, names=['specobjid', 'wavelength', 'red shift', 'red shift error', 'flux', 'g sn', 'r sn', 'i sn', 'central wavelength'])\n",
    "\n",
    "# add the spectra \n",
    "spectra_table['specobjid'] = spectra_table['specobjid'].astype('int64')\n",
    "matched_with_sourcetype = join(obj_matches, spectra_table, keys='specobjid', join_type='left')\n",
    "\n",
    "# save to csv\n",
    "spectra_df = matched_with_sourcetype.to_pandas()\n",
    "spectra_table.write('spectra_table.fits', overwrite=True)\n",
    "spectra_df.to_csv('spectral_data2.csv', index=False)\n",
    "print(len(spectra_df))\n",
    "\n",
    "print(f\"Rows in obj_matches: {len(obj_matches)}\")\n",
    "\n"
   ]
  }
 ],
 "metadata": {
  "kernelspec": {
   "display_name": "Python 3 (ipykernel)",
   "language": "python",
   "name": "python3"
  },
  "language_info": {
   "codemirror_mode": {
    "name": "ipython",
    "version": 3
   },
   "file_extension": ".py",
   "mimetype": "text/x-python",
   "name": "python",
   "nbconvert_exporter": "python",
   "pygments_lexer": "ipython3",
   "version": "3.9.12"
  }
 },
 "nbformat": 4,
 "nbformat_minor": 5
}
