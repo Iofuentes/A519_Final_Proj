{
 "cells": [
  {
   "cell_type": "code",
   "execution_count": 138,
   "id": "e5bfb615-6a16-425d-a7ef-84413da48feb",
   "metadata": {},
   "outputs": [],
   "source": [
    "import numpy as np\n",
    "from astropy.coordinates import SkyCoord\n",
    "import matplotlib.pyplot as plt\n",
    "%matplotlib inline\n",
    "\n",
    "from astropy.io import fits\n",
    "from astropy.visualization.mpl_normalize import ImageNormalize\n",
    "from astropy.visualization import SqrtStretch"
   ]
  },
  {
   "cell_type": "code",
   "execution_count": 139,
   "id": "e5cc981a-b1a9-4b2e-b0c1-2b15d00490ea",
   "metadata": {},
   "outputs": [
    {
     "name": "stdout",
     "output_type": "stream",
     "text": [
      "       ra              dec        ...     specobjid      run2d\n",
      "---------------- ---------------- ... ------------------ -----\n",
      "2.02344596573482 14.8398237551311 ... 845594848269461504    26\n"
     ]
    }
   ],
   "source": [
    "from astroquery.sdss import SDSS\n",
    "from astropy import coordinates as coords\n",
    "\n",
    "pos = coords.SkyCoord('0h8m05.63s +14d50m23.3s', frame='icrs')\n",
    "xid = SDSS.query_region(pos, radius='5 arcsec', spectro=True)\n",
    "print(xid)"
   ]
  },
  {
   "cell_type": "markdown",
   "id": "69f19f7e-fb9e-444c-a933-990f69509bf5",
   "metadata": {},
   "source": [
    "\"It is also possible to download spectral templates from SDSS. To see what is available.\""
   ]
  },
  {
   "cell_type": "code",
   "execution_count": 141,
   "id": "edb21bed-8489-4810-9866-314fa78d2565",
   "metadata": {},
   "outputs": [
    {
     "name": "stdout",
     "output_type": "stream",
     "text": [
      "[[<astropy.io.fits.hdu.image.PrimaryHDU object at 0x00000277E880E930>, <astropy.io.fits.hdu.table.BinTableHDU object at 0x00000277ED9B9F40>, <astropy.io.fits.hdu.table.BinTableHDU object at 0x00000277ED9C31A0>, <astropy.io.fits.hdu.table.BinTableHDU object at 0x00000277ED9C38F0>, <astropy.io.fits.hdu.table.BinTableHDU object at 0x00000277ED9CB4A0>, <astropy.io.fits.hdu.table.BinTableHDU object at 0x00000277EDA066F0>, <astropy.io.fits.hdu.table.BinTableHDU object at 0x00000277EDA15880>, <astropy.io.fits.hdu.table.BinTableHDU object at 0x00000277EDA17590>, <astropy.io.fits.hdu.table.BinTableHDU object at 0x00000277EDA2BD40>, <astropy.io.fits.hdu.table.BinTableHDU object at 0x00000277EDA36F00>]]\n"
     ]
    }
   ],
   "source": [
    "im = SDSS.get_images(matches=xid, band='g')\n",
    "#sp = SDSS.get_spectra(matches=xid)\n",
    "print(sp)"
   ]
  },
  {
   "cell_type": "code",
   "execution_count": 142,
   "id": "ccfc5d90-8671-4dc2-a47c-f8f74fff7b8a",
   "metadata": {},
   "outputs": [
    {
     "name": "stdout",
     "output_type": "stream",
     "text": [
      "<astropy.io.fits.hdu.image.PrimaryHDU object at 0x00000277E8797020>\n",
      "[[ 0.02539062  0.01313782 -0.00726318 ...  0.0100708   0.00603485\n",
      "   0.00200272]\n",
      " [-0.02359009 -0.00726318  0.00089836 ... -0.01412964 -0.01412964\n",
      "   0.01409912]\n",
      " [ 0.01313782  0.04986572  0.00906372 ... -0.01412964 -0.00606537\n",
      "  -0.00606537]\n",
      " ...\n",
      " [-0.00865173  0.00358963  0.00358963 ...  0.0046463   0.00868225\n",
      "   0.01675415]\n",
      " [-0.0004921  -0.01272583  0.01989746 ...  0.01675415  0.0046463\n",
      "  -0.03167725]\n",
      " [-0.01681519  0.01174927  0.00766754 ...  0.02078247  0.00061321\n",
      "   0.03692627]]\n"
     ]
    }
   ],
   "source": [
    "template = im\n",
    "print(template[0][0])\n",
    "\n",
    "hdu_list = template[0][0]\n",
    "image_data = hdu_list.data\n",
    "print(image_data)"
   ]
  },
  {
   "cell_type": "code",
   "execution_count": 147,
   "id": "ddc4776f-226c-48da-bb5e-18905ed29c08",
   "metadata": {},
   "outputs": [
    {
     "data": {
      "text/plain": [
       "<matplotlib.colorbar.Colorbar at 0x277eda47080>"
      ]
     },
     "execution_count": 147,
     "metadata": {},
     "output_type": "execute_result"
    }
   ],
   "source": [
    "plt.imshow(image_data, cmap='gray')\n",
    "plt.colorbar()"
   ]
  },
  {
   "cell_type": "code",
   "execution_count": 149,
   "id": "eb1913f4-d7a4-416b-95f0-05c2adfc304b",
   "metadata": {},
   "outputs": [
    {
     "data": {
      "text/plain": [
       "<matplotlib.colorbar.Colorbar at 0x277eda47a10>"
      ]
     },
     "execution_count": 149,
     "metadata": {},
     "output_type": "execute_result"
    }
   ],
   "source": [
    "norm = ImageNormalize(stretch=SqrtStretch())\n",
    "plt.imshow(image_data, origin='lower', cmap='Greys_r')\n",
    "plt.colorbar()"
   ]
  }
 ],
 "metadata": {
  "kernelspec": {
   "display_name": "Python 3 (ipykernel)",
   "language": "python",
   "name": "python3"
  },
  "language_info": {
   "codemirror_mode": {
    "name": "ipython",
    "version": 3
   },
   "file_extension": ".py",
   "mimetype": "text/x-python",
   "name": "python",
   "nbconvert_exporter": "python",
   "pygments_lexer": "ipython3",
   "version": "3.12.4"
  }
 },
 "nbformat": 4,
 "nbformat_minor": 5
}
