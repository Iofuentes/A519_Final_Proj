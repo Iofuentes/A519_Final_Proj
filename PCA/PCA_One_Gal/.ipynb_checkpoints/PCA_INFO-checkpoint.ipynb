{
 "cells": [
  {
   "cell_type": "markdown",
   "id": "ef1a3d0c-870d-454a-80b2-4912779ccdc9",
   "metadata": {},
   "source": [
    "# The goal of this is to learn and explain how to conduct Principal Component Analysis(PCA) using a real dataset."
   ]
  },
  {
<<<<<<< HEAD
   "cell_type": "markdown",
   "id": "38b6e516-2846-44b3-890c-d21ba9a8864b",
   "metadata": {},
   "source": [
    "## From Astroquery Classcode"
   ]
  },
  {
   "cell_type": "code",
   "execution_count": 1,
   "id": "225d76e1-c504-4106-9477-4541ac0dd197",
   "metadata": {},
   "outputs": [],
   "source": [
    "import numpy as np\n",
    "from astropy.coordinates import SkyCoord\n",
    "import matplotlib.pyplot as plt\n",
    "%matplotlib inline"
=======
   "cell_type": "code",
   "execution_count": 4,
   "id": "89429a1d",
   "metadata": {},
   "outputs": [],
   "source": [
    "# 3rd party\n",
    "import numpy as np\n",
    "import matplotlib\n",
    "import matplotlib.pyplot as plt\n",
    "from matplotlib.ticker import NullFormatter\n",
    "from astropy.utils.data import download_file  #import file from URL\n",
    "%matplotlib inline\n",
    "\n",
    "from astroquery.vizier import Vizier\n",
    "from astropy import units as u\n",
    "from astropy.coordinates import SkyCoord\n",
    "\n",
    "# from astroquery.sdss import SDSS\n",
    "# from astropy import coordinates as coords"
   ]
  },
  {
   "cell_type": "markdown",
   "id": "2d5a4e56",
   "metadata": {},
   "source": [
    "## Query: "
>>>>>>> 53f7592377bfbb837d4bf1aad5166c99a9b2d065
   ]
  },
  {
   "cell_type": "code",
<<<<<<< HEAD
   "execution_count": 10,
   "id": "8f06ef8d-525b-4f22-ad99-19b6f48d0aec",
=======
   "execution_count": 7,
   "id": "387bc9e8",
>>>>>>> 53f7592377bfbb837d4bf1aad5166c99a9b2d065
   "metadata": {},
   "outputs": [
    {
     "name": "stdout",
     "output_type": "stream",
     "text": [
<<<<<<< HEAD
      "9d49m43.20012s\n",
      "   _r       RAJ2000       DEJ2000    ... iIsoFl zIsoFl YIsoFl\n",
      "              deg           deg      ...                     \n",
      "-------- ------------- ------------- ... ------ ------ ------\n",
      "0.242644   9.884961000 -57.758264000 ...      0      0      0\n",
      "0.244365   9.884991000 -57.759996000 ...      0      0      0\n",
      "0.246866   9.883333000 -57.762624000 ...      0      0      0\n",
      "0.245320   9.874475000 -57.761590000 ...      0      0      0\n",
      "0.245540   9.879033000 -57.761554000 ...      0      0      0\n",
      "0.246044   9.886027000 -57.761619000 ...      0      0      0\n",
      "0.246289   9.879897000 -57.762256000 ...      0      0      0\n",
      "0.246035   9.873203000 -57.762376000 ...      0      0      0\n",
      "0.246867   9.876723000 -57.763022000 ...      0      0      0\n",
      "     ...           ...           ... ...    ...    ...    ...\n",
      "0.245908   9.927711000 -57.757623000 ...      0      0      0\n",
      "0.244317   9.920744000 -57.756792000 ...      0      0      0\n",
      "0.247973   9.937396000 -57.758545000 ...      0      0      0\n",
      "0.248004   9.939680000 -57.758278000 ...      0      0      0\n",
      "0.247520   9.929351000 -57.759080000 ...      0      0      0\n",
      "0.249692   9.897411000 -57.764465000 ...      0      0      0\n",
      "0.248068   9.923458000 -57.760322000 ...      0      0      0\n",
      "0.249031   9.933829000 -57.760084000 ...      0      0      0\n",
      "0.246663   9.911176000 -57.760175000 ...      0      0      0\n",
      "0.246196   9.893693000 -57.761222000 ...      0      0      0\n",
      "Length = 50 rows\n"
=======
      "   _r      URAT1       RAICRS      DEICRS   sigs ...  rmag  e_rmag  imag  e_imag\n",
      "                        deg         deg     mas  ...  mag    mag    mag    mag  \n",
      "-------- ---------- ----------- ----------- ---- ... ------ ------ ------ ------\n",
      "0.236117 527-024115  62.8268400  15.3166189   13 ...     --     --     --     --\n",
      "0.238362 527-024116  62.8288397  15.3288467   12 ...     --     --     --     --\n",
      "0.231552 527-024117  62.8334681  15.3212583   11 ...     --     --     --     --\n",
      "0.241933 527-024118  62.8360081  15.3532722   14 ...     --     --     --     --\n",
      "0.241325 527-024125  62.8418492  15.3625061   38 ...     --     --     --     --\n",
      "0.226249 527-024126  62.8425161  15.3292783   14 ... 12.136  0.009 11.886  0.022\n",
      "0.230670 527-024131  62.8471729  15.3495889   46 ...     --     --     --     --\n",
      "0.223773 527-024136  62.8530486  15.3455233   13 ...     --     --     --     --\n",
      "0.222138 527-024138  62.8549917  15.3455944   63 ...     --     --     --     --\n",
      "0.221329 527-024141  62.8596050  15.3521581   14 ...     --     --     --     --\n",
      "     ...        ...         ...         ...  ... ...    ...    ...    ...    ...\n",
      "0.238417 528-023530  63.1520481  15.4649283   12 ...     --     --     --     --\n",
      "0.239675 528-023508  63.1184714  15.4766497   24 ...     --     --     --     --\n",
      "0.201473 528-023474  63.0639347  15.4452086   17 ...     --     --     --     --\n",
      "0.224797 528-023486  63.0766647  15.4679767   22 ...     --     --     --     --\n",
      "0.239574 528-023480  63.0704383  15.4831272   10 ...     --     --     --     --\n",
      "0.242452 528-023482  63.0729400  15.4858917   20 ...     --     --     --     --\n",
      "0.238312 528-023484  63.0751736  15.4816203   23 ...     --     --     --     --\n",
      "0.244354 528-023490  63.0805681  15.4872994    9 ... 13.416  0.018 13.061  0.076\n",
      "0.227710 528-023464  63.0446213  15.4710244   16 ... 16.516  0.001     --     --\n",
      "0.236714 528-023467  63.0458606  15.4801167    9 ... 13.466  0.032 13.105  0.016\n",
      "Length = 656 rows\n"
>>>>>>> 53f7592377bfbb837d4bf1aad5166c99a9b2d065
     ]
    }
   ],
   "source": [
<<<<<<< HEAD
    "from astroquery.vizier import Vizier\n",
    "from astropy import coordinates\n",
    "import astropy.units as u\n",
    "from astropy.table import QTable\n",
    "\n",
    "from astropy.coordinates import ICRS\n",
    "from astropy import units as u\n",
    "coo = ICRS(9.8286667 *u.degree, -57.5175000*u.degree)\n",
    "print(str(coo.ra))\n",
    "# ra = \"09 49 43.2\"\n",
    "# dec = \"-57 31 03\"\n",
    "\n",
    "# center = SkyCoord(ra=ra, dec=dec)\n",
    "\n",
    "vquery = Vizier(columns=['**'], row_limit=50)\n",
    "catalog = vquery.query_region(coo, radius='0d15m0s', catalog='40A/data3')[0]\n",
=======
    "tra = 63.05966346231679 \n",
    "tdec = 15.243781569238761\n",
    "\n",
    "vquery = Vizier(columns=['**'], row_limit=-1)\n",
    "center = SkyCoord(tra * u.deg, tdec * u.deg)\n",
    "catalog = vquery.query_region(center, radius='0d15m0s', catalog='I/329/urat1')[0]\n",
    "\n",
>>>>>>> 53f7592377bfbb837d4bf1aad5166c99a9b2d065
    "print(catalog)"
   ]
  },
  {
   "cell_type": "code",
   "execution_count": 8,
<<<<<<< HEAD
   "id": "8d63b9a1-1833-47dc-8ea9-1b21c0acb08d",
   "metadata": {},
   "outputs": [
    {
     "ename": "NameError",
     "evalue": "name 'print_table_list' is not defined",
     "output_type": "error",
     "traceback": [
      "\u001b[1;31m---------------------------------------------------------------------------\u001b[0m",
      "\u001b[1;31mNameError\u001b[0m                                 Traceback (most recent call last)",
      "Cell \u001b[1;32mIn[8], line 1\u001b[0m\n\u001b[1;32m----> 1\u001b[0m print_table_list()\n",
      "\u001b[1;31mNameError\u001b[0m: name 'print_table_list' is not defined"
=======
   "id": "4ce89f33",
   "metadata": {},
   "outputs": [
    {
     "name": "stdout",
     "output_type": "stream",
     "text": [
      " rmag \n",
      " mag  \n",
      "------\n",
      "    --\n",
      "    --\n",
      "    --\n",
      "    --\n",
      "    --\n",
      "12.136\n",
      "    --\n",
      "    --\n",
      "    --\n",
      "    --\n",
      "   ...\n",
      "    --\n",
      "    --\n",
      "    --\n",
      "    --\n",
      "    --\n",
      "    --\n",
      "    --\n",
      "13.416\n",
      "16.516\n",
      "13.466\n",
      "Length = 656 rows\n"
>>>>>>> 53f7592377bfbb837d4bf1aad5166c99a9b2d065
     ]
    }
   ],
   "source": [
<<<<<<< HEAD
    "print_table_list()\n",
    "# for w in catalog.columns:\n",
    "#     print(w)"
   ]
  },
  {
   "cell_type": "markdown",
   "id": "7e33e923-0292-4745-9e49-0c7d978c0749",
   "metadata": {},
   "source": [
    "## From PCA Jupyter Tutorial"
   ]
  },
  {
   "cell_type": "code",
   "execution_count": 15,
   "id": "f5ac44dd-21d5-43e1-82e6-0b53e90431d1",
   "metadata": {},
   "outputs": [],
   "source": [
    "import matplotlib.pyplot as plt\n",
    "import numpy as np\n",
    "import pandas as pd\n",
    "%matplotlib inline"
   ]
  },
  {
   "cell_type": "code",
   "execution_count": 17,
   "id": "5074c289-71ae-4fed-848b-7b33541275ef",
   "metadata": {},
   "outputs": [],
   "source": [
    "from sklearn.datasets import load_breast_cancer"
=======
    "rmag = catalog['rmag']\n",
    "rmagerr = catalog['e_rmag']\n",
    "catalog_coords = SkyCoord(ra=catalog['RAICRS'], dec=catalog['DEICRS'])\n"
>>>>>>> 53f7592377bfbb837d4bf1aad5166c99a9b2d065
   ]
  }
 ],
 "metadata": {
  "kernelspec": {
   "display_name": "Python 3 (ipykernel)",
   "language": "python",
   "name": "python3"
  },
  "language_info": {
   "codemirror_mode": {
    "name": "ipython",
    "version": 3
   },
   "file_extension": ".py",
   "mimetype": "text/x-python",
   "name": "python",
   "nbconvert_exporter": "python",
   "pygments_lexer": "ipython3",
<<<<<<< HEAD
   "version": "3.12.4"
=======
   "version": "3.9.12"
>>>>>>> 53f7592377bfbb837d4bf1aad5166c99a9b2d065
  }
 },
 "nbformat": 4,
 "nbformat_minor": 5
}
