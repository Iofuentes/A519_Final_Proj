{
 "cells": [
  {
   "cell_type": "markdown",
   "id": "ef1a3d0c-870d-454a-80b2-4912779ccdc9",
   "metadata": {},
   "source": [
    "# The goal of this is to learn and explain how to conduct Principal Component Analysis(PCA) using a real dataset."
   ]
  },
  {
   "cell_type": "code",
   "execution_count": 4,
   "id": "89429a1d",
   "metadata": {},
   "outputs": [],
   "source": [
    "# 3rd party\n",
    "import numpy as np\n",
    "import matplotlib\n",
    "import matplotlib.pyplot as plt\n",
    "from matplotlib.ticker import NullFormatter\n",
    "from astropy.utils.data import download_file  #import file from URL\n",
    "%matplotlib inline\n",
    "\n",
    "from astroquery.vizier import Vizier\n",
    "from astropy import units as u\n",
    "from astropy.coordinates import SkyCoord\n",
    "\n",
    "# from astroquery.sdss import SDSS\n",
    "# from astropy import coordinates as coords"
   ]
  },
  {
   "cell_type": "markdown",
   "id": "2d5a4e56",
   "metadata": {},
   "source": [
    "## Query: "
   ]
  },
  {
   "cell_type": "code",
   "execution_count": 7,
   "id": "387bc9e8",
   "metadata": {},
   "outputs": [
    {
     "name": "stdout",
     "output_type": "stream",
     "text": [
      "   _r      URAT1       RAICRS      DEICRS   sigs ...  rmag  e_rmag  imag  e_imag\n",
      "                        deg         deg     mas  ...  mag    mag    mag    mag  \n",
      "-------- ---------- ----------- ----------- ---- ... ------ ------ ------ ------\n",
      "0.236117 527-024115  62.8268400  15.3166189   13 ...     --     --     --     --\n",
      "0.238362 527-024116  62.8288397  15.3288467   12 ...     --     --     --     --\n",
      "0.231552 527-024117  62.8334681  15.3212583   11 ...     --     --     --     --\n",
      "0.241933 527-024118  62.8360081  15.3532722   14 ...     --     --     --     --\n",
      "0.241325 527-024125  62.8418492  15.3625061   38 ...     --     --     --     --\n",
      "0.226249 527-024126  62.8425161  15.3292783   14 ... 12.136  0.009 11.886  0.022\n",
      "0.230670 527-024131  62.8471729  15.3495889   46 ...     --     --     --     --\n",
      "0.223773 527-024136  62.8530486  15.3455233   13 ...     --     --     --     --\n",
      "0.222138 527-024138  62.8549917  15.3455944   63 ...     --     --     --     --\n",
      "0.221329 527-024141  62.8596050  15.3521581   14 ...     --     --     --     --\n",
      "     ...        ...         ...         ...  ... ...    ...    ...    ...    ...\n",
      "0.238417 528-023530  63.1520481  15.4649283   12 ...     --     --     --     --\n",
      "0.239675 528-023508  63.1184714  15.4766497   24 ...     --     --     --     --\n",
      "0.201473 528-023474  63.0639347  15.4452086   17 ...     --     --     --     --\n",
      "0.224797 528-023486  63.0766647  15.4679767   22 ...     --     --     --     --\n",
      "0.239574 528-023480  63.0704383  15.4831272   10 ...     --     --     --     --\n",
      "0.242452 528-023482  63.0729400  15.4858917   20 ...     --     --     --     --\n",
      "0.238312 528-023484  63.0751736  15.4816203   23 ...     --     --     --     --\n",
      "0.244354 528-023490  63.0805681  15.4872994    9 ... 13.416  0.018 13.061  0.076\n",
      "0.227710 528-023464  63.0446213  15.4710244   16 ... 16.516  0.001     --     --\n",
      "0.236714 528-023467  63.0458606  15.4801167    9 ... 13.466  0.032 13.105  0.016\n",
      "Length = 656 rows\n"
     ]
    }
   ],
   "source": [
    "tra = 63.05966346231679 \n",
    "tdec = 15.243781569238761\n",
    "\n",
    "vquery = Vizier(columns=['**'], row_limit=-1)\n",
    "center = SkyCoord(tra * u.deg, tdec * u.deg)\n",
    "catalog = vquery.query_region(center, radius='0d15m0s', catalog='I/329/urat1')[0]\n",
    "\n",
    "print(catalog)"
   ]
  },
  {
   "cell_type": "code",
   "execution_count": 8,
   "id": "4ce89f33",
   "metadata": {},
   "outputs": [
    {
     "name": "stdout",
     "output_type": "stream",
     "text": [
      " rmag \n",
      " mag  \n",
      "------\n",
      "    --\n",
      "    --\n",
      "    --\n",
      "    --\n",
      "    --\n",
      "12.136\n",
      "    --\n",
      "    --\n",
      "    --\n",
      "    --\n",
      "   ...\n",
      "    --\n",
      "    --\n",
      "    --\n",
      "    --\n",
      "    --\n",
      "    --\n",
      "    --\n",
      "13.416\n",
      "16.516\n",
      "13.466\n",
      "Length = 656 rows\n"
     ]
    }
   ],
   "source": [
    "rmag = catalog['rmag']\n",
    "rmagerr = catalog['e_rmag']\n",
    "catalog_coords = SkyCoord(ra=catalog['RAICRS'], dec=catalog['DEICRS'])\n"
   ]
  }
 ],
 "metadata": {
  "kernelspec": {
   "display_name": "Python 3 (ipykernel)",
   "language": "python",
   "name": "python3"
  },
  "language_info": {
   "codemirror_mode": {
    "name": "ipython",
    "version": 3
   },
   "file_extension": ".py",
   "mimetype": "text/x-python",
   "name": "python",
   "nbconvert_exporter": "python",
   "pygments_lexer": "ipython3",
   "version": "3.9.12"
  }
 },
 "nbformat": 4,
 "nbformat_minor": 5
}
