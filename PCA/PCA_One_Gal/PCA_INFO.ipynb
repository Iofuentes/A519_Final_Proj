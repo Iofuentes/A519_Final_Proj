{
 "cells": [
  {
   "cell_type": "markdown",
   "id": "ef1a3d0c-870d-454a-80b2-4912779ccdc9",
   "metadata": {},
   "source": [
    "# The goal of this is to learn and explain how to conduct Principal Component Analysis(PCA) using a real dataset."
   ]
  },
  {
   "cell_type": "code",
   "execution_count": 15,
   "id": "f5ac44dd-21d5-43e1-82e6-0b53e90431d1",
   "metadata": {},
   "outputs": [],
   "source": [
    "import matplotlib.pyplot as plt\n",
    "import numpy as np\n",
    "import pandas as pd\n",
    "%matplotlib inline"
   ]
  },
  {
   "cell_type": "code",
   "execution_count": 17,
   "id": "5074c289-71ae-4fed-848b-7b33541275ef",
   "metadata": {},
   "outputs": [],
   "source": [
    "from sklearn.datasets import load_breast_cancer"
   ]
  }
 ],
 "metadata": {
  "kernelspec": {
   "display_name": "Python 3 (ipykernel)",
   "language": "python",
   "name": "python3"
  },
  "language_info": {
   "codemirror_mode": {
    "name": "ipython",
    "version": 3
   },
   "file_extension": ".py",
   "mimetype": "text/x-python",
   "name": "python",
   "nbconvert_exporter": "python",
   "pygments_lexer": "ipython3",
   "version": "3.12.4"
  }
 },
 "nbformat": 4,
 "nbformat_minor": 5
}
