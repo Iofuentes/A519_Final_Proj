{
 "cells": [
  {
   "cell_type": "markdown",
   "id": "ef1a3d0c-870d-454a-80b2-4912779ccdc9",
   "metadata": {},
   "source": [
    "# The goal of this is to learn and explain how to conduct Principal Component Analysis(PCA) using a real dataset."
   ]
  },
  {
   "cell_type": "markdown",
   "id": "38b6e516-2846-44b3-890c-d21ba9a8864b",
   "metadata": {},
   "source": [
    "## From Astroquery Classcode"
   ]
  },
  {
   "cell_type": "code",
   "execution_count": 1,
   "id": "225d76e1-c504-4106-9477-4541ac0dd197",
   "metadata": {},
   "outputs": [],
   "source": [
    "import numpy as np\n",
    "from astropy.coordinates import SkyCoord\n",
    "import matplotlib.pyplot as plt\n",
    "%matplotlib inline"
   ]
  },
  {
   "cell_type": "code",
   "execution_count": 10,
   "id": "8f06ef8d-525b-4f22-ad99-19b6f48d0aec",
   "metadata": {},
   "outputs": [
    {
     "name": "stdout",
     "output_type": "stream",
     "text": [
      "9d49m43.20012s\n",
      "   _r       RAJ2000       DEJ2000    ... iIsoFl zIsoFl YIsoFl\n",
      "              deg           deg      ...                     \n",
      "-------- ------------- ------------- ... ------ ------ ------\n",
      "0.242644   9.884961000 -57.758264000 ...      0      0      0\n",
      "0.244365   9.884991000 -57.759996000 ...      0      0      0\n",
      "0.246866   9.883333000 -57.762624000 ...      0      0      0\n",
      "0.245320   9.874475000 -57.761590000 ...      0      0      0\n",
      "0.245540   9.879033000 -57.761554000 ...      0      0      0\n",
      "0.246044   9.886027000 -57.761619000 ...      0      0      0\n",
      "0.246289   9.879897000 -57.762256000 ...      0      0      0\n",
      "0.246035   9.873203000 -57.762376000 ...      0      0      0\n",
      "0.246867   9.876723000 -57.763022000 ...      0      0      0\n",
      "     ...           ...           ... ...    ...    ...    ...\n",
      "0.245908   9.927711000 -57.757623000 ...      0      0      0\n",
      "0.244317   9.920744000 -57.756792000 ...      0      0      0\n",
      "0.247973   9.937396000 -57.758545000 ...      0      0      0\n",
      "0.248004   9.939680000 -57.758278000 ...      0      0      0\n",
      "0.247520   9.929351000 -57.759080000 ...      0      0      0\n",
      "0.249692   9.897411000 -57.764465000 ...      0      0      0\n",
      "0.248068   9.923458000 -57.760322000 ...      0      0      0\n",
      "0.249031   9.933829000 -57.760084000 ...      0      0      0\n",
      "0.246663   9.911176000 -57.760175000 ...      0      0      0\n",
      "0.246196   9.893693000 -57.761222000 ...      0      0      0\n",
      "Length = 50 rows\n"
     ]
    }
   ],
   "source": [
    "from astroquery.vizier import Vizier\n",
    "from astropy import coordinates\n",
    "import astropy.units as u\n",
    "from astropy.table import QTable\n",
    "\n",
    "from astropy.coordinates import ICRS\n",
    "from astropy import units as u\n",
    "coo = ICRS(9.8286667 *u.degree, -57.5175000*u.degree)\n",
    "print(str(coo.ra))\n",
    "# ra = \"09 49 43.2\"\n",
    "# dec = \"-57 31 03\"\n",
    "\n",
    "# center = SkyCoord(ra=ra, dec=dec)\n",
    "\n",
    "vquery = Vizier(columns=['**'], row_limit=50)\n",
    "catalog = vquery.query_region(coo, radius='0d15m0s', catalog='40A/data3')[0]\n",
    "print(catalog)"
   ]
  },
  {
   "cell_type": "code",
   "execution_count": 8,
   "id": "8d63b9a1-1833-47dc-8ea9-1b21c0acb08d",
   "metadata": {},
   "outputs": [
    {
     "ename": "NameError",
     "evalue": "name 'print_table_list' is not defined",
     "output_type": "error",
     "traceback": [
      "\u001b[1;31m---------------------------------------------------------------------------\u001b[0m",
      "\u001b[1;31mNameError\u001b[0m                                 Traceback (most recent call last)",
      "Cell \u001b[1;32mIn[8], line 1\u001b[0m\n\u001b[1;32m----> 1\u001b[0m print_table_list()\n",
      "\u001b[1;31mNameError\u001b[0m: name 'print_table_list' is not defined"
     ]
    }
   ],
   "source": [
    "print_table_list()\n",
    "# for w in catalog.columns:\n",
    "#     print(w)"
   ]
  },
  {
   "cell_type": "markdown",
   "id": "7e33e923-0292-4745-9e49-0c7d978c0749",
   "metadata": {},
   "source": [
    "## From PCA Jupyter Tutorial"
   ]
  },
  {
   "cell_type": "code",
   "execution_count": 15,
   "id": "f5ac44dd-21d5-43e1-82e6-0b53e90431d1",
   "metadata": {},
   "outputs": [],
   "source": [
    "import matplotlib.pyplot as plt\n",
    "import numpy as np\n",
    "import pandas as pd\n",
    "%matplotlib inline"
   ]
  },
  {
   "cell_type": "code",
   "execution_count": 17,
   "id": "5074c289-71ae-4fed-848b-7b33541275ef",
   "metadata": {},
   "outputs": [],
   "source": [
    "from sklearn.datasets import load_breast_cancer"
   ]
  }
 ],
 "metadata": {
  "kernelspec": {
   "display_name": "Python 3 (ipykernel)",
   "language": "python",
   "name": "python3"
  },
  "language_info": {
   "codemirror_mode": {
    "name": "ipython",
    "version": 3
   },
   "file_extension": ".py",
   "mimetype": "text/x-python",
   "name": "python",
   "nbconvert_exporter": "python",
   "pygments_lexer": "ipython3",
   "version": "3.12.4"
  }
 },
 "nbformat": 4,
 "nbformat_minor": 5
}
