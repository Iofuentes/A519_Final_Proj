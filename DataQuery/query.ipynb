{
 "cells": [
  {
   "cell_type": "code",
   "execution_count": 10,
   "id": "d356f550",
   "metadata": {},
   "outputs": [],
   "source": [
    "import pandas as pd\n",
    "from pprint import pprint\n",
    "from astropy.table import Table, join\n",
    "from astroquery.sdss import SDSS"
   ]
  },
  {
   "cell_type": "code",
   "execution_count": 11,
   "id": "db6680e9",
   "metadata": {},
   "outputs": [
    {
     "name": "stdout",
     "output_type": "stream",
     "text": [
      "Total number of objects: 860684\n",
      "Number of objects from plate: 587\n",
      "<TableColumns names=('ra','dec','objid','run','rerun','camcol','field','z','plate','mjd','fiberID','specobjid','run2d')>\n"
     ]
    },
    {
     "data": {
      "text/html": [
       "<div><i>Table length=587</i>\n",
       "<table id=\"table2398780459968\" class=\"table-striped table-bordered table-condensed\">\n",
       "<thead><tr><th>specobjid</th><th>SOURCETYPE</th><th>RA</th><th>Dec</th><th>plate_x</th><th>ra</th><th>dec</th><th>objid</th><th>run</th><th>rerun</th><th>camcol</th><th>field</th><th>z</th><th>plate_y</th><th>mjd</th><th>fiberID</th><th>run2d</th></tr></thead>\n",
       "<thead><tr><th>int64</th><th>str25</th><th>float64</th><th>float64</th><th>int64</th><th>float64</th><th>float64</th><th>uint64</th><th>int64</th><th>int64</th><th>int64</th><th>int64</th><th>float64</th><th>int64</th><th>int64</th><th>int64</th><th>int64</th></tr></thead>\n",
       "<tr><td>501025764846626816</td><td>GALAXY</td><td>130.61346</td><td>49.754185</td><td>445</td><td>130.61349960302</td><td>49.7542050007829</td><td>1237651189746565323</td><td>1331</td><td>301</td><td>1</td><td>175</td><td>0.1864123</td><td>445</td><td>51873</td><td>1</td><td>26</td></tr>\n",
       "<tr><td>501026039724533760</td><td>GALAXY</td><td>130.50245</td><td>49.952646</td><td>445</td><td>130.502496814982</td><td>49.9526452500273</td><td>1237651249874534681</td><td>1345</td><td>301</td><td>1</td><td>151</td><td>0.3371834</td><td>445</td><td>51873</td><td>2</td><td>26</td></tr>\n",
       "<tr><td>501026314602440704</td><td>GALAXY</td><td>130.80185</td><td>50.011891</td><td>445</td><td>130.801833171431</td><td>50.0118885755988</td><td>1237651249874600266</td><td>1345</td><td>301</td><td>1</td><td>152</td><td>0.186489</td><td>445</td><td>51873</td><td>3</td><td>26</td></tr>\n",
       "<tr><td>501026589480347648</td><td>GALAXY</td><td>130.62652</td><td>50.037049</td><td>445</td><td>130.62652811744</td><td>50.037047131032</td><td>1237651249874600531</td><td>1345</td><td>301</td><td>1</td><td>152</td><td>0.4206361</td><td>445</td><td>51873</td><td>4</td><td>26</td></tr>\n",
       "<tr><td>501026864358254592</td><td>GALAXY</td><td>130.66302</td><td>50.07183</td><td>445</td><td>130.663029522217</td><td>50.0718255938113</td><td>1237651249874600173</td><td>1345</td><td>301</td><td>1</td><td>152</td><td>0.09534973</td><td>445</td><td>51873</td><td>5</td><td>26</td></tr>\n",
       "<tr><td>501027139236161536</td><td>GALAXY</td><td>130.65008</td><td>49.928713</td><td>445</td><td>130.650100893538</td><td>49.9287158883059</td><td>1237651249874534526</td><td>1345</td><td>301</td><td>1</td><td>151</td><td>0.1664238</td><td>445</td><td>51873</td><td>6</td><td>26</td></tr>\n",
       "<tr><td>501027414114068480</td><td>QSO</td><td>130.55542</td><td>49.843956</td><td>445</td><td>130.555470999751</td><td>49.8439569299889</td><td>1237651249874534583</td><td>1345</td><td>301</td><td>1</td><td>151</td><td>2.030451</td><td>445</td><td>51873</td><td>7</td><td>26</td></tr>\n",
       "<tr><td>501027688991975424</td><td>GALAXY</td><td>130.44962</td><td>49.955264</td><td>445</td><td>130.449688077166</td><td>49.9552790767358</td><td>1237651065191858693</td><td>1302</td><td>301</td><td>1</td><td>165</td><td>0.402256</td><td>445</td><td>51873</td><td>8</td><td>26</td></tr>\n",
       "<tr><td>501027963869882368</td><td>GALAXY</td><td>130.54073</td><td>50.024759</td><td>445</td><td>130.540791289279</td><td>50.0247573027193</td><td>1237651190283501764</td><td>1331</td><td>301</td><td>2</td><td>176</td><td>0.18413</td><td>445</td><td>51873</td><td>9</td><td>26</td></tr>\n",
       "<tr><td>...</td><td>...</td><td>...</td><td>...</td><td>...</td><td>...</td><td>...</td><td>...</td><td>...</td><td>...</td><td>...</td><td>...</td><td>...</td><td>...</td><td>...</td><td>...</td><td>...</td></tr>\n",
       "<tr><td>501198663050094592</td><td>GALAXY</td><td>131.31484</td><td>50.881621</td><td>445</td><td>131.314851457391</td><td>50.8815950817023</td><td>1237651250411864219</td><td>1345</td><td>301</td><td>2</td><td>158</td><td>0.1155295</td><td>445</td><td>51873</td><td>630</td><td>26</td></tr>\n",
       "<tr><td>501198937928001536</td><td>GALAXY</td><td>131.27164</td><td>50.946964</td><td>445</td><td>131.271660127235</td><td>50.9469380141574</td><td>1237651250411864233</td><td>1345</td><td>301</td><td>2</td><td>158</td><td>0.1146976</td><td>445</td><td>51873</td><td>631</td><td>26</td></tr>\n",
       "<tr><td>501199212805908480</td><td>QSO</td><td>131.37725</td><td>50.882241</td><td>445</td><td>131.377226813394</td><td>50.8821903128244</td><td>1237651190283960568</td><td>1331</td><td>301</td><td>2</td><td>183</td><td>1.679486</td><td>445</td><td>51873</td><td>632</td><td>26</td></tr>\n",
       "<tr><td>501199487683815424</td><td>GALAXY</td><td>131.50628</td><td>50.804347</td><td>445</td><td>131.506276256679</td><td>50.8042981258333</td><td>1237651190283960567</td><td>1331</td><td>301</td><td>2</td><td>183</td><td>0.1148084</td><td>445</td><td>51873</td><td>633</td><td>26</td></tr>\n",
       "<tr><td>501199762561722368</td><td>GALAXY</td><td>131.21291</td><td>50.957744</td><td>445</td><td>131.212923814384</td><td>50.9577171492051</td><td>1237651250411864224</td><td>1345</td><td>301</td><td>2</td><td>158</td><td>0.1152446</td><td>445</td><td>51873</td><td>634</td><td>26</td></tr>\n",
       "<tr><td>501200037439629312</td><td>GALAXY</td><td>131.63282</td><td>50.756063</td><td>445</td><td>131.632868436562</td><td>50.7560425592079</td><td>1237651249874993212</td><td>1345</td><td>301</td><td>1</td><td>158</td><td>0.1190154</td><td>445</td><td>51873</td><td>635</td><td>26</td></tr>\n",
       "<tr><td>501200312317536256</td><td>GALAXY</td><td>131.50127</td><td>50.826139</td><td>445</td><td>131.501275787811</td><td>50.8261098296183</td><td>1237651190283960579</td><td>1331</td><td>301</td><td>2</td><td>183</td><td>0.1147404</td><td>445</td><td>51873</td><td>636</td><td>26</td></tr>\n",
       "<tr><td>501200587195443200</td><td>GALAXY</td><td>131.35564</td><td>50.81252</td><td>445</td><td>131.355629675952</td><td>50.8124565897294</td><td>1237651190283960520</td><td>1331</td><td>301</td><td>2</td><td>183</td><td>0.1181085</td><td>445</td><td>51873</td><td>637</td><td>26</td></tr>\n",
       "<tr><td>501200862073350144</td><td>QSO</td><td>131.46784</td><td>50.756792</td><td>445</td><td>131.4678321864</td><td>50.7567340848664</td><td>1237651190283960538</td><td>1331</td><td>301</td><td>2</td><td>183</td><td>2.887859</td><td>445</td><td>51873</td><td>638</td><td>26</td></tr>\n",
       "<tr><td>501201411829164032</td><td>GALAXY</td><td>131.68443</td><td>50.635968</td><td>445</td><td>131.684438195514</td><td>50.6359391300748</td><td>1237651249874993273</td><td>1345</td><td>301</td><td>1</td><td>158</td><td>0.07117665</td><td>445</td><td>51873</td><td>640</td><td>26</td></tr>\n",
       "</table></div>"
      ],
      "text/plain": [
       "<Table length=587>\n",
       "    specobjid              SOURCETYPE            RA    ...  mjd  fiberID run2d\n",
       "      int64                  str25            float64  ... int64  int64  int64\n",
       "------------------ ------------------------- --------- ... ----- ------- -----\n",
       "501025764846626816 GALAXY                    130.61346 ... 51873       1    26\n",
       "501026039724533760 GALAXY                    130.50245 ... 51873       2    26\n",
       "501026314602440704 GALAXY                    130.80185 ... 51873       3    26\n",
       "501026589480347648 GALAXY                    130.62652 ... 51873       4    26\n",
       "501026864358254592 GALAXY                    130.66302 ... 51873       5    26\n",
       "501027139236161536 GALAXY                    130.65008 ... 51873       6    26\n",
       "501027414114068480 QSO                       130.55542 ... 51873       7    26\n",
       "501027688991975424 GALAXY                    130.44962 ... 51873       8    26\n",
       "501027963869882368 GALAXY                    130.54073 ... 51873       9    26\n",
       "               ...                       ...       ... ...   ...     ...   ...\n",
       "501198663050094592 GALAXY                    131.31484 ... 51873     630    26\n",
       "501198937928001536 GALAXY                    131.27164 ... 51873     631    26\n",
       "501199212805908480 QSO                       131.37725 ... 51873     632    26\n",
       "501199487683815424 GALAXY                    131.50628 ... 51873     633    26\n",
       "501199762561722368 GALAXY                    131.21291 ... 51873     634    26\n",
       "501200037439629312 GALAXY                    131.63282 ... 51873     635    26\n",
       "501200312317536256 GALAXY                    131.50127 ... 51873     636    26\n",
       "501200587195443200 GALAXY                    131.35564 ... 51873     637    26\n",
       "501200862073350144 QSO                       131.46784 ... 51873     638    26\n",
       "501201411829164032 GALAXY                    131.68443 ... 51873     640    26"
      ]
     },
     "execution_count": 11,
     "metadata": {},
     "output_type": "execute_result"
    }
   ],
   "source": [
    "# astroquery is weird - can query by region, plate, fiber id, or mjd\n",
    "# query sdss objects by plate number ~ 500 objects per plate\n",
    "\n",
    "\n",
    "# read in the csv file, and get objects on one plate\n",
    "file = 'sdss_objects.csv'\n",
    "df = pd.read_csv(file)\n",
    "print(f\"Total number of objects: {len(df)}\")\n",
    "\n",
    "plate_number = [445] \n",
    "\n",
    "# filter the data set by plate number\n",
    "objects = df[df['plate'].isin(plate_number)]\n",
    "\n",
    "print(f\"Number of objects from plate: {len(objects)}\")\n",
    "\n",
    "# query sdss by plate numer, print available columns\n",
    "\n",
    "results = SDSS.query_specobj(plate = 445)\n",
    "print(results.columns)\n",
    "\n",
    "\n",
    "# match the queries objects with the objects in the csv\n",
    "objects = objects.copy()\n",
    "query_df = results.to_pandas()\n",
    "\n",
    "objects['specobjid'] = objects['specobjid'].astype('int64')\n",
    "query_df['specobjid'] = query_df['specobjid'].astype('int64')\n",
    "\n",
    "# merge the data frames to get the matched objects\n",
    "matched_objects = pd.merge(objects, query_df, on='specobjid', how='inner')\n",
    "\n",
    "\n",
    "obj_matches = Table.from_pandas(matched_objects)\n",
    "obj_matches\n",
    "\n"
   ]
  },
  {
   "cell_type": "code",
   "execution_count": 12,
   "id": "8c3efc60",
   "metadata": {},
   "outputs": [
    {
     "name": "stdout",
     "output_type": "stream",
     "text": [
      "Columns in obj_matches: <TableColumns names=('specobjid','SOURCETYPE','RA','Dec','plate','ra','dec','objid','run','rerun','camcol','field','z','mjd','fiberID','run2d')>\n"
     ]
    }
   ],
   "source": [
    "# adjust columns such that dataframes match\n",
    "\n",
    "if 'plate_y' in obj_matches.columns:\n",
    "    obj_matches.remove_columns('plate_y')\n",
    "\n",
    "\n",
    "if 'plate_x' in obj_matches.columns:\n",
    "    obj_matches.rename_column('plate_x', 'plate')\n",
    "\n",
    "# printt available columns\n",
    "print(\"Columns in obj_matches:\", obj_matches.columns)\n",
    "\n",
    "# get spectra of matched objects\n",
    "spec = SDSS.get_spectra(matches=obj_matches)\n"
   ]
  },
  {
   "cell_type": "code",
   "execution_count": 13,
   "id": "56371dda",
   "metadata": {},
   "outputs": [
    {
     "name": "stdout",
     "output_type": "stream",
     "text": [
      "587\n",
      "Rows in obj_matches: 587\n"
     ]
    }
   ],
   "source": [
    "# download data from spectra\n",
    "spectra_table = []\n",
    "\n",
    "for hdu_list in spec:\n",
    "    # Extract the spectrum's binary table (usually in the 1st HDU)\n",
    "    data = hdu_list[1].data\n",
    "    header = hdu_list[0].header\n",
    "    \n",
    "    # get wavelength and flux data\n",
    "    \n",
    "    wavelength = data['loglam']\n",
    "    flux = data['flux']\n",
    "\n",
    "\n",
    "    # get information from header\n",
    "    obj_id = header['SPEC_ID']      \n",
    "    g_sn = header['SPEC1_G']\n",
    "    r_sn = header['SPEC1_R']\n",
    "    i_sn = header['SPEC1_I']\n",
    "    \n",
    "    red_shift = header['SHIFT']\n",
    "    red_shift_err = header['SHIFTERR']\n",
    "    \n",
    "    central_wavelength = header['COEFF0']\n",
    "    \n",
    "    # append the data to a table\n",
    "    spectra_table.append([obj_id, wavelength, flux, red_shift, red_shift_err, g_sn, r_sn, i_sn, central_wavelength])\n",
    "\n",
    "# create an astropy table\n",
    "spectra_table = Table(rows=spectra_table, names=['specobjid', 'wavelength', 'red shift', 'red shift error', 'flux', 'g sn', 'r sn', 'i sn', 'central wavelength'])\n",
    "\n",
    "# add the spectra \n",
    "spectra_table['specobjid'] = spectra_table['specobjid'].astype('int64')\n",
    "matched_with_sourcetype = join(obj_matches, spectra_table, keys='specobjid', join_type='left')\n",
    "\n",
    "# save to csv\n",
    "spectra_df = matched_with_sourcetype.to_pandas()\n",
    "spectra_table.write('spectra_table.fits', overwrite=True)\n",
    "spectra_df.to_csv('spectral_data2.csv', index=False)\n",
    "print(len(spectra_df))\n",
    "\n",
    "print(f\"Rows in obj_matches: {len(obj_matches)}\")\n",
    "\n"
   ]
  },
  {
   "cell_type": "code",
   "execution_count": 19,
   "id": "723ff12e",
   "metadata": {},
   "outputs": [
    {
     "name": "stdout",
     "output_type": "stream",
     "text": [
      "945\n",
      "Number of objects from plate 945: 578\n",
      "946\n",
      "Number of objects from plate 946: 568\n",
      "947\n",
      "Number of objects from plate 947: 496\n"
     ]
    },
    {
     "data": {
      "text/html": [
       "<div><i>Table length=1636</i>\n",
       "<table id=\"table2399642341008\" class=\"table-striped table-bordered table-condensed\">\n",
       "<thead><tr><th>specobjid</th><th>SOURCETYPE</th><th>RA</th><th>Dec</th><th>plate_x</th><th>ra</th><th>dec</th><th>objid</th><th>run</th><th>rerun</th><th>camcol</th><th>field</th><th>z</th><th>plate_y</th><th>mjd</th><th>fiberID</th><th>run2d</th></tr></thead>\n",
       "<thead><tr><th>int64</th><th>str25</th><th>float64</th><th>float64</th><th>int64</th><th>float64</th><th>float64</th><th>uint64</th><th>int64</th><th>int64</th><th>int64</th><th>int64</th><th>float64</th><th>int64</th><th>int64</th><th>int64</th><th>int64</th></tr></thead>\n",
       "<tr><td>1063975731337390080</td><td>GALAXY</td><td>152.69115</td><td>54.19951</td><td>945</td><td>152.691169940386</td><td>54.199516953674</td><td>1237657772321538135</td><td>2863</td><td>301</td><td>6</td><td>186</td><td>0.0471576</td><td>945</td><td>52652</td><td>1</td><td>26</td></tr>\n",
       "<tr><td>1063976006215297024</td><td>GALAXY</td><td>152.46477</td><td>54.285261</td><td>945</td><td>152.464779875372</td><td>54.2852746020127</td><td>1237657772321472648</td><td>2863</td><td>301</td><td>6</td><td>185</td><td>0.04465302</td><td>945</td><td>52652</td><td>2</td><td>26</td></tr>\n",
       "<tr><td>1063976281093203968</td><td>GALAXY</td><td>152.54256</td><td>54.308625</td><td>945</td><td>152.542524520288</td><td>54.3086405602035</td><td>1237657772321472671</td><td>2863</td><td>301</td><td>6</td><td>185</td><td>0.04384306</td><td>945</td><td>52652</td><td>3</td><td>26</td></tr>\n",
       "<tr><td>1063976555971110912</td><td>GALAXY</td><td>152.4358</td><td>54.36866</td><td>945</td><td>152.435768775204</td><td>54.3686711829338</td><td>1237655106759360789</td><td>2243</td><td>301</td><td>1</td><td>215</td><td>0.3776088</td><td>945</td><td>52652</td><td>4</td><td>26</td></tr>\n",
       "<tr><td>1063976830849017856</td><td>GALAXY</td><td>152.43383</td><td>54.387151</td><td>945</td><td>152.433787775776</td><td>54.3871666343831</td><td>1237655106759360750</td><td>2243</td><td>301</td><td>1</td><td>215</td><td>0.3766828</td><td>945</td><td>52652</td><td>5</td><td>26</td></tr>\n",
       "<tr><td>1063977105726924800</td><td>GALAXY</td><td>152.69627</td><td>54.392</td><td>945</td><td>152.69625694128</td><td>54.3919810415265</td><td>1237657772321538231</td><td>2863</td><td>301</td><td>6</td><td>186</td><td>0.04771653</td><td>945</td><td>52652</td><td>6</td><td>26</td></tr>\n",
       "<tr><td>1063977380604831744</td><td>GALAXY</td><td>152.42572</td><td>54.288932</td><td>945</td><td>152.4257838094</td><td>54.2889841760877</td><td>1237657772321472799</td><td>2863</td><td>301</td><td>6</td><td>185</td><td>-0.0005457028</td><td>945</td><td>52652</td><td>7</td><td>26</td></tr>\n",
       "<tr><td>1063977930360645632</td><td>GALAXY</td><td>152.61384</td><td>54.333608</td><td>945</td><td>152.613768396619</td><td>54.3336386403989</td><td>1237657772321538401</td><td>2863</td><td>301</td><td>6</td><td>186</td><td>0.489183</td><td>945</td><td>52652</td><td>9</td><td>26</td></tr>\n",
       "<tr><td>1063978205238552576</td><td>QSO</td><td>152.60462</td><td>54.360848</td><td>945</td><td>152.604606636525</td><td>54.3608459656354</td><td>1237657772321538195</td><td>2863</td><td>301</td><td>6</td><td>186</td><td>3.172779</td><td>945</td><td>52652</td><td>10</td><td>26</td></tr>\n",
       "<tr><td>...</td><td>...</td><td>...</td><td>...</td><td>...</td><td>...</td><td>...</td><td>...</td><td>...</td><td>...</td><td>...</td><td>...</td><td>...</td><td>...</td><td>...</td><td>...</td><td>...</td></tr>\n",
       "<tr><td>1066399875555420160</td><td>GALAXY</td><td>159.85726</td><td>57.241584</td><td>947</td><td>159.85725619812</td><td>57.2415749086788</td><td>1237655107835265176</td><td>2243</td><td>301</td><td>3</td><td>248</td><td>0.1021413</td><td>947</td><td>52411</td><td>628</td><td>26</td></tr>\n",
       "<tr><td>1066400150433327104</td><td>GALAXY</td><td>159.5555</td><td>57.412008</td><td>947</td><td>159.555485131458</td><td>57.4120157509935</td><td>1237655108372136115</td><td>2243</td><td>301</td><td>4</td><td>248</td><td>0.1674754</td><td>947</td><td>52411</td><td>629</td><td>26</td></tr>\n",
       "<tr><td>1066400425311234048</td><td>GALAXY</td><td>159.68526</td><td>57.36677</td><td>947</td><td>159.685228097254</td><td>57.3667681903925</td><td>1237658303278809246</td><td>2987</td><td>301</td><td>3</td><td>63</td><td>0.1020984</td><td>947</td><td>52411</td><td>630</td><td>26</td></tr>\n",
       "<tr><td>1066401249944954880</td><td>GALAXY</td><td>159.50866</td><td>56.956298</td><td>947</td><td>159.508624487949</td><td>56.9562768739185</td><td>1237655107835134078</td><td>2243</td><td>301</td><td>3</td><td>246</td><td>0.07305964</td><td>947</td><td>52411</td><td>633</td><td>26</td></tr>\n",
       "<tr><td>1066401799700768768</td><td>GALAXY</td><td>159.91516</td><td>57.094688</td><td>947</td><td>159.915166528422</td><td>57.0946716535227</td><td>1237655107835265155</td><td>2243</td><td>301</td><td>3</td><td>248</td><td>0.1148123</td><td>947</td><td>52411</td><td>635</td><td>26</td></tr>\n",
       "<tr><td>1066402074578675712</td><td>GALAXY</td><td>159.87689</td><td>57.194797</td><td>947</td><td>159.876908727492</td><td>57.194789291835</td><td>1237655107835265165</td><td>2243</td><td>301</td><td>3</td><td>248</td><td>0.07378387</td><td>947</td><td>52411</td><td>636</td><td>26</td></tr>\n",
       "<tr><td>1066402349456582656</td><td>GALAXY</td><td>159.68947</td><td>56.919264</td><td>947</td><td>159.689470191805</td><td>56.9192546667123</td><td>1237658302741872698</td><td>2987</td><td>301</td><td>2</td><td>62</td><td>0.1144392</td><td>947</td><td>52411</td><td>637</td><td>26</td></tr>\n",
       "<tr><td>1066402624334489600</td><td>GALAXY</td><td>159.92803</td><td>57.075891</td><td>947</td><td>159.928018271136</td><td>57.0758623485972</td><td>1237655107835265152</td><td>2243</td><td>301</td><td>3</td><td>248</td><td>0.1154527</td><td>947</td><td>52411</td><td>638</td><td>26</td></tr>\n",
       "<tr><td>1066402899212396544</td><td>GALAXY</td><td>159.76847</td><td>57.210458</td><td>947</td><td>159.768476971908</td><td>57.2104463991168</td><td>1237655107835265133</td><td>2243</td><td>301</td><td>3</td><td>248</td><td>0.1311785</td><td>947</td><td>52411</td><td>639</td><td>26</td></tr>\n",
       "<tr><td>1066403174090303488</td><td>GALAXY</td><td>159.76828</td><td>56.92778</td><td>947</td><td>159.768285215854</td><td>56.927773869784</td><td>1237658302741872838</td><td>2987</td><td>301</td><td>2</td><td>62</td><td>0.1818637</td><td>947</td><td>52411</td><td>640</td><td>26</td></tr>\n",
       "</table></div>"
      ],
      "text/plain": [
       "<Table length=1636>\n",
       "     specobjid              SOURCETYPE            RA    ...  mjd  fiberID run2d\n",
       "       int64                  str25            float64  ... int64  int64  int64\n",
       "------------------- ------------------------- --------- ... ----- ------- -----\n",
       "1063975731337390080 GALAXY                    152.69115 ... 52652       1    26\n",
       "1063976006215297024 GALAXY                    152.46477 ... 52652       2    26\n",
       "1063976281093203968 GALAXY                    152.54256 ... 52652       3    26\n",
       "1063976555971110912 GALAXY                     152.4358 ... 52652       4    26\n",
       "1063976830849017856 GALAXY                    152.43383 ... 52652       5    26\n",
       "1063977105726924800 GALAXY                    152.69627 ... 52652       6    26\n",
       "1063977380604831744 GALAXY                    152.42572 ... 52652       7    26\n",
       "1063977930360645632 GALAXY                    152.61384 ... 52652       9    26\n",
       "1063978205238552576 QSO                       152.60462 ... 52652      10    26\n",
       "                ...                       ...       ... ...   ...     ...   ...\n",
       "1066399875555420160 GALAXY                    159.85726 ... 52411     628    26\n",
       "1066400150433327104 GALAXY                     159.5555 ... 52411     629    26\n",
       "1066400425311234048 GALAXY                    159.68526 ... 52411     630    26\n",
       "1066401249944954880 GALAXY                    159.50866 ... 52411     633    26\n",
       "1066401799700768768 GALAXY                    159.91516 ... 52411     635    26\n",
       "1066402074578675712 GALAXY                    159.87689 ... 52411     636    26\n",
       "1066402349456582656 GALAXY                    159.68947 ... 52411     637    26\n",
       "1066402624334489600 GALAXY                    159.92803 ... 52411     638    26\n",
       "1066402899212396544 GALAXY                    159.76847 ... 52411     639    26\n",
       "1066403174090303488 GALAXY                    159.76828 ... 52411     640    26"
      ]
     },
     "execution_count": 19,
     "metadata": {},
     "output_type": "execute_result"
    }
   ],
   "source": [
    "from astropy.table import vstack\n",
    "\n",
    "# repeat above process but query over multiple plate numbers to get over 1000 spectra\n",
    "# List of plate numbers\n",
    "plates = [945, 946, 947]\n",
    "\n",
    "objects = []\n",
    "for plate in plates: \n",
    "    # Filter rows based on the current plate\n",
    "    print(plate)\n",
    "    objects_df = df[df['plate'] == plate]\n",
    "    objects_table = Table.from_pandas(objects_df)\n",
    "    objects.append(objects_table)\n",
    "    # Append the filtered DataFrame to the list\n",
    "    \n",
    "    \n",
    "    # Print the number of objects for the current plate\n",
    "    print(f\"Number of objects from plate {plate}: {len(objects_df)}\")\n",
    "    \n",
    "objects = vstack(objects)\n",
    "\n",
    "\n",
    "# Loop through the plates and query SDSS\n",
    "results = []\n",
    "for plate in plates:\n",
    "    query = SDSS.query_specobj(plate = plate)\n",
    "    if query is not None:\n",
    "        results.append(query)\n",
    "\n",
    "# Combine results into a single table\n",
    "results = vstack(results)\n",
    "\n",
    "\n",
    "\n",
    "# match the queries objects with the objects in the csv\n",
    "objects = objects.to_pandas()\n",
    "query_df = results.to_pandas()\n",
    "\n",
    "objects['specobjid'] = objects['specobjid'].astype('int64')\n",
    "query_df['specobjid'] = query_df['specobjid'].astype('int64')\n",
    "\n",
    "# merge the data frames to get the matched objects\n",
    "matched_objects = pd.merge(objects, query_df, on='specobjid', how='inner')\n",
    "\n",
    "\n",
    "obj_matches = Table.from_pandas(matched_objects)\n",
    "obj_matches\n"
   ]
  },
  {
   "cell_type": "code",
   "execution_count": 21,
   "id": "3e8bfe31",
   "metadata": {},
   "outputs": [
    {
     "name": "stdout",
     "output_type": "stream",
     "text": [
      "Columns in obj_matches: <TableColumns names=('specobjid','SOURCETYPE','RA','Dec','plate','ra','dec','objid','run','rerun','camcol','field','z','mjd','fiberID','run2d')>\n"
     ]
    }
   ],
   "source": [
    "if 'plate_y' in obj_matches.columns:\n",
    "    obj_matches.remove_columns('plate_y')\n",
    "\n",
    "\n",
    "if 'plate_x' in obj_matches.columns:\n",
    "    obj_matches.rename_column('plate_x', 'plate')\n",
    "\n",
    "# printt available columns\n",
    "print(\"Columns in obj_matches:\", obj_matches.columns)\n",
    "\n",
    "# get spectra of matched objects\n",
    "spec = SDSS.get_spectra(matches=obj_matches)\n"
   ]
  },
  {
   "cell_type": "code",
   "execution_count": 22,
   "id": "3897c440",
   "metadata": {},
   "outputs": [
    {
     "name": "stdout",
     "output_type": "stream",
     "text": [
      "1636\n",
      "Rows in obj_matches: 1636\n"
     ]
    }
   ],
   "source": [
    "# download data from spectra\n",
    "spectra_table = []\n",
    "\n",
    "for hdu_list in spec:\n",
    "    # Extract the spectrum's binary table (usually in the 1st HDU)\n",
    "    data = hdu_list[1].data\n",
    "    header = hdu_list[0].header\n",
    "    \n",
    "    # get wavelength and flux data\n",
    "    \n",
    "    wavelength = data['loglam']\n",
    "    flux = data['flux']\n",
    "\n",
    "\n",
    "    # get information from header\n",
    "    obj_id = header['SPEC_ID']      \n",
    "    g_sn = header['SPEC1_G']\n",
    "    r_sn = header['SPEC1_R']\n",
    "    i_sn = header['SPEC1_I']\n",
    "    \n",
    "    red_shift = header['SHIFT']\n",
    "    red_shift_err = header['SHIFTERR']\n",
    "    \n",
    "    central_wavelength = header['COEFF0']\n",
    "    \n",
    "    # append the data to a table\n",
    "    spectra_table.append([obj_id, wavelength, flux, red_shift, red_shift_err, g_sn, r_sn, i_sn, central_wavelength])\n",
    "\n",
    "# create an astropy table\n",
    "spectra_table = Table(rows=spectra_table, names=['specobjid', 'wavelength', 'red shift', 'red shift error', 'flux', 'g sn', 'r sn', 'i sn', 'central wavelength'])\n",
    "\n",
    "# add the spectra \n",
    "spectra_table['specobjid'] = spectra_table['specobjid'].astype('int64')\n",
    "matched_with_sourcetype = join(obj_matches, spectra_table, keys='specobjid', join_type='left')\n",
    "\n",
    "# save to csv\n",
    "spectra_df = matched_with_sourcetype.to_pandas()\n",
    "spectra_table.write('spectra_table.fits', overwrite=True)\n",
    "spectra_df.to_csv('spectral_data3.csv', index=False)\n",
    "print(len(spectra_df))\n",
    "\n",
    "print(f\"Rows in obj_matches: {len(obj_matches)}\")\n",
    "\n"
   ]
  },
  {
   "cell_type": "code",
   "execution_count": 23,
   "id": "737ae7f4",
   "metadata": {
    "scrolled": true
   },
   "outputs": [
    {
     "ename": "AttributeError",
     "evalue": "recarray has no attribute writeto",
     "output_type": "error",
     "traceback": [
      "\u001b[1;31m---------------------------------------------------------------------------\u001b[0m",
      "\u001b[1;31mKeyError\u001b[0m                                  Traceback (most recent call last)",
      "File \u001b[1;32m~\\anaconda3\\Lib\\site-packages\\numpy\\core\\records.py:453\u001b[0m, in \u001b[0;36mrecarray.__getattribute__\u001b[1;34m(self, attr)\u001b[0m\n\u001b[0;32m    452\u001b[0m \u001b[38;5;28;01mtry\u001b[39;00m:\n\u001b[1;32m--> 453\u001b[0m     res \u001b[38;5;241m=\u001b[39m fielddict[attr][:\u001b[38;5;241m2\u001b[39m]\n\u001b[0;32m    454\u001b[0m \u001b[38;5;28;01mexcept\u001b[39;00m (\u001b[38;5;167;01mTypeError\u001b[39;00m, \u001b[38;5;167;01mKeyError\u001b[39;00m) \u001b[38;5;28;01mas\u001b[39;00m e:\n",
      "\u001b[1;31mKeyError\u001b[0m: 'writeto'",
      "\nThe above exception was the direct cause of the following exception:\n",
      "\u001b[1;31mAttributeError\u001b[0m                            Traceback (most recent call last)",
      "Cell \u001b[1;32mIn[23], line 14\u001b[0m\n\u001b[0;32m     12\u001b[0m     \u001b[38;5;66;03m# Save to FITS file\u001b[39;00m\n\u001b[0;32m     13\u001b[0m     output_filename \u001b[38;5;241m=\u001b[39m os\u001b[38;5;241m.\u001b[39mpath\u001b[38;5;241m.\u001b[39mjoin(output_folder, \u001b[38;5;124mf\u001b[39m\u001b[38;5;124m\"\u001b[39m\u001b[38;5;124mspectrum_\u001b[39m\u001b[38;5;132;01m{\u001b[39;00mspectrum\u001b[38;5;132;01m}\u001b[39;00m\u001b[38;5;124m.fits\u001b[39m\u001b[38;5;124m\"\u001b[39m)\n\u001b[1;32m---> 14\u001b[0m     data\u001b[38;5;241m.\u001b[39mwriteto(output_filename, overwrite\u001b[38;5;241m=\u001b[39m\u001b[38;5;28;01mTrue\u001b[39;00m)\n\u001b[0;32m     15\u001b[0m     \u001b[38;5;28mprint\u001b[39m(\u001b[38;5;124mf\u001b[39m\u001b[38;5;124m\"\u001b[39m\u001b[38;5;124mSaved: \u001b[39m\u001b[38;5;132;01m{\u001b[39;00moutput_filename\u001b[38;5;132;01m}\u001b[39;00m\u001b[38;5;124m\"\u001b[39m)\n\u001b[0;32m     17\u001b[0m \u001b[38;5;28mprint\u001b[39m(\u001b[38;5;124mf\u001b[39m\u001b[38;5;124m\"\u001b[39m\u001b[38;5;124mAll spectra saved in folder: \u001b[39m\u001b[38;5;132;01m{\u001b[39;00moutput_folder\u001b[38;5;132;01m}\u001b[39;00m\u001b[38;5;124m\"\u001b[39m)\n",
      "File \u001b[1;32m~\\anaconda3\\Lib\\site-packages\\astropy\\io\\fits\\fitsrec.py:501\u001b[0m, in \u001b[0;36mFITS_rec.__getattribute__\u001b[1;34m(self, attr)\u001b[0m\n\u001b[0;32m    498\u001b[0m     \u001b[38;5;28;01mreturn\u001b[39;00m \u001b[38;5;28mself\u001b[39m\u001b[38;5;241m.\u001b[39mfield(attr)\n\u001b[0;32m    500\u001b[0m \u001b[38;5;66;03m# If not, just let the usual np.recarray override deal with it.\u001b[39;00m\n\u001b[1;32m--> 501\u001b[0m \u001b[38;5;28;01mreturn\u001b[39;00m \u001b[38;5;28msuper\u001b[39m()\u001b[38;5;241m.\u001b[39m\u001b[38;5;21m__getattribute__\u001b[39m(attr)\n",
      "File \u001b[1;32m~\\anaconda3\\Lib\\site-packages\\numpy\\core\\records.py:455\u001b[0m, in \u001b[0;36mrecarray.__getattribute__\u001b[1;34m(self, attr)\u001b[0m\n\u001b[0;32m    453\u001b[0m     res \u001b[38;5;241m=\u001b[39m fielddict[attr][:\u001b[38;5;241m2\u001b[39m]\n\u001b[0;32m    454\u001b[0m \u001b[38;5;28;01mexcept\u001b[39;00m (\u001b[38;5;167;01mTypeError\u001b[39;00m, \u001b[38;5;167;01mKeyError\u001b[39;00m) \u001b[38;5;28;01mas\u001b[39;00m e:\n\u001b[1;32m--> 455\u001b[0m     \u001b[38;5;28;01mraise\u001b[39;00m \u001b[38;5;167;01mAttributeError\u001b[39;00m(\u001b[38;5;124m\"\u001b[39m\u001b[38;5;124mrecarray has no attribute \u001b[39m\u001b[38;5;132;01m%s\u001b[39;00m\u001b[38;5;124m\"\u001b[39m \u001b[38;5;241m%\u001b[39m attr) \u001b[38;5;28;01mfrom\u001b[39;00m \u001b[38;5;21;01me\u001b[39;00m\n\u001b[0;32m    456\u001b[0m obj \u001b[38;5;241m=\u001b[39m \u001b[38;5;28mself\u001b[39m\u001b[38;5;241m.\u001b[39mgetfield(\u001b[38;5;241m*\u001b[39mres)\n\u001b[0;32m    458\u001b[0m \u001b[38;5;66;03m# At this point obj will always be a recarray, since (see\u001b[39;00m\n\u001b[0;32m    459\u001b[0m \u001b[38;5;66;03m# PyArray_GetField) the type of obj is inherited. Next, if obj.dtype is\u001b[39;00m\n\u001b[0;32m    460\u001b[0m \u001b[38;5;66;03m# non-structured, convert it to an ndarray. Then if obj is structured\u001b[39;00m\n\u001b[0;32m    461\u001b[0m \u001b[38;5;66;03m# with void type convert it to the same dtype.type (eg to preserve\u001b[39;00m\n\u001b[0;32m    462\u001b[0m \u001b[38;5;66;03m# numpy.record type if present), since nested structured fields do not\u001b[39;00m\n\u001b[0;32m    463\u001b[0m \u001b[38;5;66;03m# inherit type. Don't do this for non-void structures though.\u001b[39;00m\n",
      "\u001b[1;31mAttributeError\u001b[0m: recarray has no attribute writeto"
     ]
    }
   ],
   "source": [
    "# save each spectrum as fits file\n",
    "import os\n",
    "\n",
    "output_folder = \"spectra_fits_files2\"\n",
    "os.makedirs(output_folder, exist_ok=True)\n",
    "\n",
    "# Save each spectrum\n",
    "for spectrum in spec:\n",
    "    data = spectrum[1].data\n",
    "    header = spectrum[0].header\n",
    "\n",
    "    # Save to FITS file\n",
    "    output_filename = os.path.join(output_folder, f\"spectrum_{spectrum}.fits\")\n",
    "    data.writeto(output_filename, overwrite=True)\n",
    "    print(f\"Saved: {output_filename}\")\n",
    "\n",
    "print(f\"All spectra saved in folder: {output_folder}\")\n"
   ]
  }
 ],
 "metadata": {
  "kernelspec": {
   "display_name": "Python 3 (ipykernel)",
   "language": "python",
   "name": "python3"
  },
  "language_info": {
   "codemirror_mode": {
    "name": "ipython",
    "version": 3
   },
   "file_extension": ".py",
   "mimetype": "text/x-python",
   "name": "python",
   "nbconvert_exporter": "python",
   "pygments_lexer": "ipython3",
   "version": "3.12.4"
  }
 },
 "nbformat": 4,
 "nbformat_minor": 5
}
